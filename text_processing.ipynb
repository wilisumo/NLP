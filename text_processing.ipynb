{
 "cells": [
  {
   "cell_type": "markdown",
   "metadata": {},
   "source": [
    "# Text Processing\n",
    "\n",
    "## Capturing Text Data\n",
    "\n",
    "### Plain Text"
   ]
  },
  {
   "cell_type": "code",
   "execution_count": 1,
   "metadata": {},
   "outputs": [
    {
     "name": "stdout",
     "output_type": "stream",
     "text": [
      "Hieroglyphic writing dates from c. 3000 BC, and is composed of hundreds of symbols. A hieroglyph can represent a word, a sound, or a silent determinative; and the same symbol can serve different purposes in different contexts. Hieroglyphs were a formal script, used on stone monuments and in tombs, that could be as detailed as individual works of art.\n",
      "\n"
     ]
    }
   ],
   "source": [
    "import os\n",
    "# Read in a plain text file\n",
    "with open(os.path.join(\"data\", \"hieroglyph.txt\"), \"r\") as f:\n",
    "    text = f.read()\n",
    "    print(text)"
   ]
  },
  {
   "cell_type": "markdown",
   "metadata": {},
   "source": [
    "### Tabular Data"
   ]
  },
  {
   "cell_type": "code",
   "execution_count": 3,
   "metadata": {
    "scrolled": true
   },
   "outputs": [
    {
     "data": {
      "text/html": [
       "<div>\n",
       "<style scoped>\n",
       "    .dataframe tbody tr th:only-of-type {\n",
       "        vertical-align: middle;\n",
       "    }\n",
       "\n",
       "    .dataframe tbody tr th {\n",
       "        vertical-align: top;\n",
       "    }\n",
       "\n",
       "    .dataframe thead th {\n",
       "        text-align: right;\n",
       "    }\n",
       "</style>\n",
       "<table border=\"1\" class=\"dataframe\">\n",
       "  <thead>\n",
       "    <tr style=\"text-align: right;\">\n",
       "      <th></th>\n",
       "      <th>publisher</th>\n",
       "      <th>title</th>\n",
       "    </tr>\n",
       "  </thead>\n",
       "  <tbody>\n",
       "    <tr>\n",
       "      <th>0</th>\n",
       "      <td>Livemint</td>\n",
       "      <td>fed's charles plosser sees high bar for change...</td>\n",
       "    </tr>\n",
       "    <tr>\n",
       "      <th>1</th>\n",
       "      <td>IFA Magazine</td>\n",
       "      <td>us open: stocks fall after fed official hints ...</td>\n",
       "    </tr>\n",
       "    <tr>\n",
       "      <th>2</th>\n",
       "      <td>IFA Magazine</td>\n",
       "      <td>fed risks falling 'behind the curve', charles ...</td>\n",
       "    </tr>\n",
       "    <tr>\n",
       "      <th>3</th>\n",
       "      <td>Moneynews</td>\n",
       "      <td>fed's plosser: nasty weather has curbed job gr...</td>\n",
       "    </tr>\n",
       "    <tr>\n",
       "      <th>4</th>\n",
       "      <td>NASDAQ</td>\n",
       "      <td>plosser: fed may have to accelerate tapering pace</td>\n",
       "    </tr>\n",
       "  </tbody>\n",
       "</table>\n",
       "</div>"
      ],
      "text/plain": [
       "      publisher                                              title\n",
       "0      Livemint  fed's charles plosser sees high bar for change...\n",
       "1  IFA Magazine  us open: stocks fall after fed official hints ...\n",
       "2  IFA Magazine  fed risks falling 'behind the curve', charles ...\n",
       "3     Moneynews  fed's plosser: nasty weather has curbed job gr...\n",
       "4        NASDAQ  plosser: fed may have to accelerate tapering pace"
      ]
     },
     "execution_count": 3,
     "metadata": {},
     "output_type": "execute_result"
    }
   ],
   "source": [
    "import pandas as pd\n",
    "# Extract text column from a dataframe\n",
    "df = pd.read_csv(os.path.join(\"data\", \"news.csv\"))\n",
    "df.head()[['publisher', 'title']]\n",
    "# Convert text column to lowercase\n",
    "df['title'] = df['title'].str.lower()\n",
    "df.head()[['publisher', 'title']]"
   ]
  },
  {
   "cell_type": "markdown",
   "metadata": {},
   "source": [
    "### Online Resource"
   ]
  },
  {
   "cell_type": "code",
   "execution_count": 4,
   "metadata": {
    "scrolled": true
   },
   "outputs": [
    {
     "name": "stdout",
     "output_type": "stream",
     "text": [
      "{\n",
      "    \"success\": {\n",
      "        \"total\": 1\n",
      "    },\n",
      "    \"contents\": {\n",
      "        \"quotes\": [\n",
      "            {\n",
      "                \"quote\": \"From now on we live in a world where man has walked on the Moon. It's not a miracle; we just decided to go.\",\n",
      "                \"length\": \"107\",\n",
      "                \"author\": \"Tom Hanks\",\n",
      "                \"tags\": [\n",
      "                    \"humor\",\n",
      "                    \"inspire\",\n",
      "                    \"man\",\n",
      "                    \"miracles\",\n",
      "                    \"moon\"\n",
      "                ],\n",
      "                \"category\": \"inspire\",\n",
      "                \"language\": \"en\",\n",
      "                \"date\": \"2020-03-30\",\n",
      "                \"permalink\": \"https://theysaidso.com/quote/tom-hanks-from-now-on-we-live-in-a-world-where-man-has-walked-on-the-moon-its-no\",\n",
      "                \"id\": \"9rDc8ymrY7VZQHCUf6Xf1AeF\",\n",
      "                \"background\": \"https://theysaidso.com/img/qod/qod-inspire.jpg\",\n",
      "                \"title\": \"Inspiring Quote of the day\"\n",
      "            }\n",
      "        ]\n",
      "    },\n",
      "    \"baseurl\": \"https://theysaidso.com\",\n",
      "    \"copyright\": {\n",
      "        \"year\": 2022,\n",
      "        \"url\": \"https://theysaidso.com\"\n",
      "    }\n",
      "}\n",
      "From now on we live in a world where man has walked on the Moon. It's not a miracle; we just decided to go. \n",
      "-- Tom Hanks\n"
     ]
    }
   ],
   "source": [
    "import requests\n",
    "import json\n",
    "\n",
    "# Fetch data from a REST API\n",
    "r = requests.get(\n",
    "    \"https://quotes.rest/qod.json\")\n",
    "res = r.json()\n",
    "print(json.dumps(res, indent=4))\n",
    "# Extract relevant object and field\n",
    "q = res[\"contents\"][\"quotes\"][0]\n",
    "print(q[\"quote\"], \"\\n--\", q[\"author\"])"
   ]
  },
  {
   "cell_type": "markdown",
   "metadata": {},
   "source": [
    "## Cleaning"
   ]
  },
  {
   "cell_type": "code",
   "execution_count": 5,
   "metadata": {
    "scrolled": true
   },
   "outputs": [
    {
     "name": "stdout",
     "output_type": "stream",
     "text": [
      "<html op=\"news\"><head><meta name=\"referrer\" content=\"origin\"><meta name=\"viewport\" content=\"width=device-width, initial-scale=1.0\"><link rel=\"stylesheet\" type=\"text/css\" href=\"news.css?ryW9A4l3hsJvd6D7sOQl\">\n",
      "        <link rel=\"shortcut icon\" href=\"favicon.ico\">\n",
      "          <link rel=\"alternate\" type=\"application/rss+xml\" title=\"RSS\" href=\"rss\">\n",
      "        <title>Hacker News</title></head><body><center><table id=\"hnmain\" border=\"0\" cellpadding=\"0\" cellspacing=\"0\" width=\"85%\" bgcolor=\"#f6f6ef\">\n",
      "        <tr><td bgcolor=\"#ff6600\"><table border=\"0\" cellpadding=\"0\" cellspacing=\"0\" width=\"100%\" style=\"padding:2px\"><tr><td style=\"width:18px;padding-right:4px\"><a href=\"https://news.ycombinator.com\"><img src=\"y18.gif\" width=\"18\" height=\"18\" style=\"border:1px white solid;\"></a></td>\n",
      "                  <td style=\"line-height:12pt; height:10px;\"><span class=\"pagetop\"><b class=\"hnname\"><a href=\"news\">Hacker News</a></b>\n",
      "              <a href=\"newest\">new</a> | <a href=\"front\">past</a> | <a href=\"newcomments\">comments</a> | <a href=\"ask\">ask</a> | <a href=\"show\">show</a> | <a href=\"jobs\">jobs</a> | <a href=\"submit\">submit</a>            </span></td><td style=\"text-align:right;padding-right:4px;\"><span class=\"pagetop\">\n",
      "                              <a href=\"login?goto=news\">login</a>\n",
      "                          </span></td>\n",
      "              </tr></table></td></tr>\n",
      "<tr id=\"pagespace\" title=\"\" style=\"height:10px\"></tr><tr><td><table border=\"0\" cellpadding=\"0\" cellspacing=\"0\" class=\"itemlist\">\n",
      "              <tr class='athing' id='22730668'>\n",
      "      <td align=\"right\" valign=\"top\" class=\"title\"><span class=\"rank\">1.</span></td>      <td valign=\"top\" class=\"votelinks\"><center><a id='up_22730668' href='vote?id=22730668&amp;how=up&amp;goto=news'><div class='votearrow' title='upvote'></div></a></center></td><td class=\"title\"><a href=\"https://techcrunch.com/2020/03/30/wework-sells-off-social-network-meetup-to-alleycorp-and-other-investors/\" class=\"storylink\">WeWork sells Meetup</a><span class=\"sitebit comhead\"> (<a href=\"from?site=techcrunch.com\"><span class=\"sitestr\">techcrunch.com</span></a>)</span></td></tr><tr><td colspan=\"2\"></td><td class=\"subtext\">\n",
      "        <span class=\"score\" id=\"score_22730668\">384 points</span> by <a href=\"user?id=uptown\" class=\"hnuser\">uptown</a> <span class=\"age\"><a href=\"item?id=22730668\">5 hours ago</a></span> <span id=\"unv_22730668\"></span> | <a href=\"hide?id=22730668&amp;goto=news\">hide</a> | <a href=\"item?id=22730668\">215&nbsp;comments</a>              </td></tr>\n",
      "      <tr class=\"spacer\" style=\"height:5px\"></tr>\n",
      "                <tr class='athing' id='22732953'>\n",
      "      <td align=\"right\" valign=\"top\" class=\"title\"><span class=\"rank\">2.</span></td>      <td valign=\"top\" class=\"votelinks\"><center><a id='up_22732953' href='vote?id=22732953&amp;how=up&amp;goto=news'><div class='votearrow' title='upvote'></div></a></center></td><td class=\"title\"><a href=\"https://www.stlouisfed.org/on-the-economy/2020/march/back-envelope-estimates-next-quarters-unemployment-rate\" class=\"storylink\">St. Louis Fed estimates 32% unemployment, 52M out of work</a><span class=\"sitebit comhead\"> (<a href=\"from?site=stlouisfed.org\"><span class=\"sitestr\">stlouisfed.org</span></a>)</span></td></tr><tr><td colspan=\"2\"></td><td class=\"subtext\">\n",
      "        <span class=\"score\" id=\"score_22732953\">107 points</span> by <a href=\"user?id=fdye\" class=\"hnuser\">fdye</a> <span class=\"age\"><a href=\"item?id=22732953\">1 hour ago</a></span> <span id=\"unv_22732953\"></span> | <a href=\"hide?id=22732953&amp;goto=news\">hide</a> | <a href=\"item?id=22732953\">108&nbsp;comments</a>              </td></tr>\n",
      "      <tr class=\"spacer\" style=\"height:5px\"></tr>\n",
      "                <tr class='athing' id='22724768'>\n",
      "      <td align=\"right\" valign=\"top\" class=\"title\"><span class=\"rank\">3.</span></td>      <td valign=\"top\" class=\"votelinks\"><center><a id='up_22724768' href='vote?id=22724768&amp;how=up&amp;goto=news'><div class='votearrow' title='upvote'></div></a></center></td><td class=\"title\"><a href=\"https://lists.zx2c4.com/pipermail/wireguard/2020-March/005206.html\" class=\"storylink\">WireGuard 1.0 for Linux 5.6</a><span class=\"sitebit comhead\"> (<a href=\"from?site=zx2c4.com\"><span class=\"sitestr\">zx2c4.com</span></a>)</span></td></tr><tr><td colspan=\"2\"></td><td class=\"subtext\">\n",
      "        <span class=\"score\" id=\"score_22724768\">458 points</span> by <a href=\"user?id=zx2c4\" class=\"hnuser\">zx2c4</a> <span class=\"age\"><a href=\"item?id=22724768\">16 hours ago</a></span> <span id=\"unv_22724768\"></span> | <a href=\"hide?id=22724768&amp;goto=news\">hide</a> | <a href=\"item?id=22724768\">153&nbsp;comments</a>              </td></tr>\n",
      "      <tr class=\"spacer\" style=\"height:5px\"></tr>\n",
      "                <tr class='athing' id='22731898'>\n",
      "      <td align=\"right\" valign=\"top\" class=\"title\"><span class=\"rank\">4.</span></td>      <td valign=\"top\" class=\"votelinks\"><center><a id='up_22731898' href='vote?id=22731898&amp;how=up&amp;goto=news'><div class='votearrow' title='upvote'></div></a></center></td><td class=\"title\"><a href=\"https://open-ui.org/\" class=\"storylink\">Open UI</a><span class=\"sitebit comhead\"> (<a href=\"from?site=open-ui.org\"><span class=\"sitestr\">open-ui.org</span></a>)</span></td></tr><tr><td colspan=\"2\"></td><td class=\"subtext\">\n",
      "        <span class=\"score\" id=\"score_22731898\">107 points</span> by <a href=\"user?id=twapi\" class=\"hnuser\">twapi</a> <span class=\"age\"><a href=\"item?id=22731898\">3 hours ago</a></span> <span id=\"unv_22731898\"></span> | <a href=\"hide?id=22731898&amp;goto=news\">hide</a> | <a href=\"item?id=22731898\">37&nbsp;comments</a>              </td></tr>\n",
      "      <tr class=\"spacer\" style=\"height:5px\"></tr>\n",
      "                <tr class='athing' id='22732208'>\n",
      "      <td align=\"right\" valign=\"top\" class=\"title\"><span class=\"rank\">5.</span></td>      <td valign=\"top\" class=\"votelinks\"><center><a id='up_22732208' href='vote?id=22732208&amp;how=up&amp;goto=news'><div class='votearrow' title='upvote'></div></a></center></td><td class=\"title\"><a href=\"https://gp.blaisemcrowly.com/dont-kill-them-with-your-positivity\" class=\"storylink\">Posiopaths: Positive only attitude can be toxic</a><span class=\"sitebit comhead\"> (<a href=\"from?site=blaisemcrowly.com\"><span class=\"sitestr\">blaisemcrowly.com</span></a>)</span></td></tr><tr><td colspan=\"2\"></td><td class=\"subtext\">\n",
      "        <span class=\"score\" id=\"score_22732208\">59 points</span> by <a href=\"user?id=TheAuditor\" class=\"hnuser\">TheAuditor</a> <span class=\"age\"><a href=\"item?id=22732208\">2 hours ago</a></span> <span id=\"unv_22732208\"></span> | <a href=\"hide?id=22732208&amp;goto=news\">hide</a> | <a href=\"item?id=22732208\">19&nbsp;comments</a>              </td></tr>\n",
      "      <tr class=\"spacer\" style=\"height:5px\"></tr>\n",
      "                <tr class='athing' id='22731881'>\n",
      "      <td align=\"right\" valign=\"top\" class=\"title\"><span class=\"rank\">6.</span></td>      <td valign=\"top\" class=\"votelinks\"><center><a id='up_22731881' href='vote?id=22731881&amp;how=up&amp;goto=news'><div class='votearrow' title='upvote'></div></a></center></td><td class=\"title\"><a href=\"https://blog.chromium.org/2020/03/updates-to-form-controls-and-focus.html\" class=\"storylink\">Updates to form controls and focus</a><span class=\"sitebit comhead\"> (<a href=\"from?site=chromium.org\"><span class=\"sitestr\">chromium.org</span></a>)</span></td></tr><tr><td colspan=\"2\"></td><td class=\"subtext\">\n",
      "        <span class=\"score\" id=\"score_22731881\">77 points</span> by <a href=\"user?id=twapi\" class=\"hnuser\">twapi</a> <span class=\"age\"><a href=\"item?id=22731881\">3 hours ago</a></span> <span id=\"unv_22731881\"></span> | <a href=\"hide?id=22731881&amp;goto=news\">hide</a> | <a href=\"item?id=22731881\">22&nbsp;comments</a>              </td></tr>\n",
      "      <tr class=\"spacer\" style=\"height:5px\"></tr>\n",
      "                <tr class='athing' id='22733194'>\n",
      "      <td align=\"right\" valign=\"top\" class=\"title\"><span class=\"rank\">7.</span></td>      <td valign=\"top\" class=\"votelinks\"><center><a id='up_22733194' href='vote?id=22733194&amp;how=up&amp;goto=news'><div class='votearrow' title='upvote'></div></a></center></td><td class=\"title\"><a href=\"https://www.tbwns.com/2020/03/30/the-bears-lair-time-to-ban-stock-repurchases/\" class=\"storylink\">Time to Ban Stock Repurchases</a><span class=\"sitebit comhead\"> (<a href=\"from?site=tbwns.com\"><span class=\"sitestr\">tbwns.com</span></a>)</span></td></tr><tr><td colspan=\"2\"></td><td class=\"subtext\">\n",
      "        <span class=\"score\" id=\"score_22733194\">12 points</span> by <a href=\"user?id=Zweihander\" class=\"hnuser\">Zweihander</a> <span class=\"age\"><a href=\"item?id=22733194\">27 minutes ago</a></span> <span id=\"unv_22733194\"></span> | <a href=\"hide?id=22733194&amp;goto=news\">hide</a> | <a href=\"item?id=22733194\">1&nbsp;comment</a>              </td></tr>\n",
      "      <tr class=\"spacer\" style=\"height:5px\"></tr>\n",
      "                <tr class='athing' id='22731472'>\n",
      "      <td align=\"right\" valign=\"top\" class=\"title\"><span class=\"rank\">8.</span></td>      <td valign=\"top\" class=\"votelinks\"><center><a id='up_22731472' href='vote?id=22731472&amp;how=up&amp;goto=news'><div class='votearrow' title='upvote'></div></a></center></td><td class=\"title\"><a href=\"http://blog.archive.org/2020/03/30/internet-archive-responds-why-we-released-the-national-emergency-library/\" class=\"storylink\">Internet Archive responds: Why we released the National Emergency Library</a><span class=\"sitebit comhead\"> (<a href=\"from?site=archive.org\"><span class=\"sitestr\">archive.org</span></a>)</span></td></tr><tr><td colspan=\"2\"></td><td class=\"subtext\">\n",
      "        <span class=\"score\" id=\"score_22731472\">81 points</span> by <a href=\"user?id=sp332\" class=\"hnuser\">sp332</a> <span class=\"age\"><a href=\"item?id=22731472\">4 hours ago</a></span> <span id=\"unv_22731472\"></span> | <a href=\"hide?id=22731472&amp;goto=news\">hide</a> | <a href=\"item?id=22731472\">24&nbsp;comments</a>              </td></tr>\n",
      "      <tr class=\"spacer\" style=\"height:5px\"></tr>\n",
      "                <tr class='athing' id='22731325'>\n",
      "      <td align=\"right\" valign=\"top\" class=\"title\"><span class=\"rank\">9.</span></td>      <td valign=\"top\" class=\"votelinks\"><center><a id='up_22731325' href='vote?id=22731325&amp;how=up&amp;goto=news'><div class='votearrow' title='upvote'></div></a></center></td><td class=\"title\"><a href=\"https://www.pcworld.com/article/3534769/ryzen-4000-review-amds-7nm-ryzen-9-offers-game-changing-performance-for-laptops.html\" class=\"storylink\">Ryzen 4000 Review</a><span class=\"sitebit comhead\"> (<a href=\"from?site=pcworld.com\"><span class=\"sitestr\">pcworld.com</span></a>)</span></td></tr><tr><td colspan=\"2\"></td><td class=\"subtext\">\n",
      "        <span class=\"score\" id=\"score_22731325\">125 points</span> by <a href=\"user?id=caseyf7\" class=\"hnuser\">caseyf7</a> <span class=\"age\"><a href=\"item?id=22731325\">4 hours ago</a></span> <span id=\"unv_22731325\"></span> | <a href=\"hide?id=22731325&amp;goto=news\">hide</a> | <a href=\"item?id=22731325\">67&nbsp;comments</a>              </td></tr>\n",
      "      <tr class=\"spacer\" style=\"height:5px\"></tr>\n",
      "                <tr class='athing' id='22729399'>\n",
      "      <td align=\"right\" valign=\"top\" class=\"title\"><span class=\"rank\">10.</span></td>      <td valign=\"top\" class=\"votelinks\"><center><a id='up_22729399' href='vote?id=22729399&amp;how=up&amp;goto=news'><div class='votearrow' title='upvote'></div></a></center></td><td class=\"title\"><a href=\"https://news.artnet.com/art-world/thieves-stolen-van-gogh-masterpiece-dutch-museum-1819743\" class=\"storylink\">Dutch museum says van Gogh painting stolen in overnight raid</a><span class=\"sitebit comhead\"> (<a href=\"from?site=artnet.com\"><span class=\"sitestr\">artnet.com</span></a>)</span></td></tr><tr><td colspan=\"2\"></td><td class=\"subtext\">\n",
      "        <span class=\"score\" id=\"score_22729399\">211 points</span> by <a href=\"user?id=danso\" class=\"hnuser\">danso</a> <span class=\"age\"><a href=\"item?id=22729399\">7 hours ago</a></span> <span id=\"unv_22729399\"></span> | <a href=\"hide?id=22729399&amp;goto=news\">hide</a> | <a href=\"item?id=22729399\">152&nbsp;comments</a>              </td></tr>\n",
      "      <tr class=\"spacer\" style=\"height:5px\"></tr>\n",
      "                <tr class='athing' id='22732492'>\n",
      "      <td align=\"right\" valign=\"top\" class=\"title\"><span class=\"rank\">11.</span></td>      <td valign=\"top\" class=\"votelinks\"><center><a id='up_22732492' href='vote?id=22732492&amp;how=up&amp;goto=news'><div class='votearrow' title='upvote'></div></a></center></td><td class=\"title\"><a href=\"https://about.gitlab.com/blog/2020/03/30/new-features-to-core/\" class=\"storylink\">Gitlab features are moving to open source</a><span class=\"sitebit comhead\"> (<a href=\"from?site=gitlab.com\"><span class=\"sitestr\">gitlab.com</span></a>)</span></td></tr><tr><td colspan=\"2\"></td><td class=\"subtext\">\n",
      "        <span class=\"score\" id=\"score_22732492\">39 points</span> by <a href=\"user?id=markdog12\" class=\"hnuser\">markdog12</a> <span class=\"age\"><a href=\"item?id=22732492\">2 hours ago</a></span> <span id=\"unv_22732492\"></span> | <a href=\"hide?id=22732492&amp;goto=news\">hide</a> | <a href=\"item?id=22732492\">9&nbsp;comments</a>              </td></tr>\n",
      "      <tr class=\"spacer\" style=\"height:5px\"></tr>\n",
      "                <tr class='athing' id='22727985'>\n",
      "      <td align=\"right\" valign=\"top\" class=\"title\"><span class=\"rank\">12.</span></td>      <td valign=\"top\" class=\"votelinks\"><center><a id='up_22727985' href='vote?id=22727985&amp;how=up&amp;goto=news'><div class='votearrow' title='upvote'></div></a></center></td><td class=\"title\"><a href=\"https://os.phil-opp.com/async-await/\" class=\"storylink\">Writing an OS in Rust: Async/Await</a><span class=\"sitebit comhead\"> (<a href=\"from?site=phil-opp.com\"><span class=\"sitestr\">phil-opp.com</span></a>)</span></td></tr><tr><td colspan=\"2\"></td><td class=\"subtext\">\n",
      "        <span class=\"score\" id=\"score_22727985\">329 points</span> by <a href=\"user?id=phil-opp\" class=\"hnuser\">phil-opp</a> <span class=\"age\"><a href=\"item?id=22727985\">9 hours ago</a></span> <span id=\"unv_22727985\"></span> | <a href=\"hide?id=22727985&amp;goto=news\">hide</a> | <a href=\"item?id=22727985\">59&nbsp;comments</a>              </td></tr>\n",
      "      <tr class=\"spacer\" style=\"height:5px\"></tr>\n",
      "                <tr class='athing' id='22730478'>\n",
      "      <td align=\"right\" valign=\"top\" class=\"title\"><span class=\"rank\">13.</span></td>      <td valign=\"top\" class=\"votelinks\"><center><a id='up_22730478' href='vote?id=22730478&amp;how=up&amp;goto=news'><div class='votearrow' title='upvote'></div></a></center></td><td class=\"title\"><a href=\"https://www.theinformation.com/articles/how-apple-is-working-from-home?pu=hackernewsusoift&amp;utm_source=hackernews&amp;utm_medium=unlock\" class=\"storylink\">How Apple Is Working From Home</a><span class=\"sitebit comhead\"> (<a href=\"from?site=theinformation.com\"><span class=\"sitestr\">theinformation.com</span></a>)</span></td></tr><tr><td colspan=\"2\"></td><td class=\"subtext\">\n",
      "        <span class=\"score\" id=\"score_22730478\">115 points</span> by <a href=\"user?id=aaronbrethorst\" class=\"hnuser\">aaronbrethorst</a> <span class=\"age\"><a href=\"item?id=22730478\">5 hours ago</a></span> <span id=\"unv_22730478\"></span> | <a href=\"hide?id=22730478&amp;goto=news\">hide</a> | <a href=\"item?id=22730478\">85&nbsp;comments</a>              </td></tr>\n",
      "      <tr class=\"spacer\" style=\"height:5px\"></tr>\n",
      "                <tr class='athing' id='22733249'>\n",
      "      <td align=\"right\" valign=\"top\" class=\"title\"><span class=\"rank\">14.</span></td>      <td valign=\"top\" class=\"votelinks\"><center><a id='up_22733249' href='vote?id=22733249&amp;how=up&amp;goto=news'><div class='votearrow' title='upvote'></div></a></center></td><td class=\"title\"><a href=\"https://kottke.org/20/03/you-probably-should-be-wearing-a-face-mask-if-you-can\" class=\"storylink\" rel=\"nofollow\">You Probably Should Be Wearing a Face Mask If You Can</a><span class=\"sitebit comhead\"> (<a href=\"from?site=kottke.org\"><span class=\"sitestr\">kottke.org</span></a>)</span></td></tr><tr><td colspan=\"2\"></td><td class=\"subtext\">\n",
      "        <span class=\"score\" id=\"score_22733249\">4 points</span> by <a href=\"user?id=miles\" class=\"hnuser\">miles</a> <span class=\"age\"><a href=\"item?id=22733249\">18 minutes ago</a></span> <span id=\"unv_22733249\"></span> | <a href=\"hide?id=22733249&amp;goto=news\">hide</a> | <a href=\"item?id=22733249\">discuss</a>              </td></tr>\n",
      "      <tr class=\"spacer\" style=\"height:5px\"></tr>\n",
      "                <tr class='athing' id='22729078'>\n",
      "      <td align=\"right\" valign=\"top\" class=\"title\"><span class=\"rank\">15.</span></td>      <td valign=\"top\" class=\"votelinks\"><center><a id='up_22729078' href='vote?id=22729078&amp;how=up&amp;goto=news'><div class='votearrow' title='upvote'></div></a></center></td><td class=\"title\"><a href=\"https://e-vent.mit.edu\" class=\"storylink\">E-VENT: Emergency ventilator design toolbox</a><span class=\"sitebit comhead\"> (<a href=\"from?site=mit.edu\"><span class=\"sitestr\">mit.edu</span></a>)</span></td></tr><tr><td colspan=\"2\"></td><td class=\"subtext\">\n",
      "        <span class=\"score\" id=\"score_22729078\">154 points</span> by <a href=\"user?id=zdw\" class=\"hnuser\">zdw</a> <span class=\"age\"><a href=\"item?id=22729078\">7 hours ago</a></span> <span id=\"unv_22729078\"></span> | <a href=\"hide?id=22729078&amp;goto=news\">hide</a> | <a href=\"item?id=22729078\">78&nbsp;comments</a>              </td></tr>\n",
      "      <tr class=\"spacer\" style=\"height:5px\"></tr>\n",
      "                <tr class='athing' id='22728142'>\n",
      "      <td align=\"right\" valign=\"top\" class=\"title\"><span class=\"rank\">16.</span></td>      <td valign=\"top\" class=\"votelinks\"><center><a id='up_22728142' href='vote?id=22728142&amp;how=up&amp;goto=news'><div class='votearrow' title='upvote'></div></a></center></td><td class=\"title\"><a href=\"https://www.acm.org/articles/bulletins/2020/march/dl-access-during-covid-19\" class=\"storylink\">Open access to ACM Digital Library during coronavirus pandemic</a><span class=\"sitebit comhead\"> (<a href=\"from?site=acm.org\"><span class=\"sitestr\">acm.org</span></a>)</span></td></tr><tr><td colspan=\"2\"></td><td class=\"subtext\">\n",
      "        <span class=\"score\" id=\"score_22728142\">204 points</span> by <a href=\"user?id=scott_s\" class=\"hnuser\">scott_s</a> <span class=\"age\"><a href=\"item?id=22728142\">9 hours ago</a></span> <span id=\"unv_22728142\"></span> | <a href=\"hide?id=22728142&amp;goto=news\">hide</a> | <a href=\"item?id=22728142\">49&nbsp;comments</a>              </td></tr>\n",
      "      <tr class=\"spacer\" style=\"height:5px\"></tr>\n",
      "                <tr class='athing' id='22718510'>\n",
      "      <td align=\"right\" valign=\"top\" class=\"title\"><span class=\"rank\">17.</span></td>      <td valign=\"top\" class=\"votelinks\"><center><a id='up_22718510' href='vote?id=22718510&amp;how=up&amp;goto=news'><div class='votearrow' title='upvote'></div></a></center></td><td class=\"title\"><a href=\"https://www.youtube.com/watch?v=YAPt_DcWAvw\" class=\"storylink\">Antique 4x5 camera creates 20 micron photolithography masks [video]</a><span class=\"sitebit comhead\"> (<a href=\"from?site=youtube.com\"><span class=\"sitestr\">youtube.com</span></a>)</span></td></tr><tr><td colspan=\"2\"></td><td class=\"subtext\">\n",
      "        <span class=\"score\" id=\"score_22718510\">94 points</span> by <a href=\"user?id=EvanAnderson\" class=\"hnuser\">EvanAnderson</a> <span class=\"age\"><a href=\"item?id=22718510\">6 hours ago</a></span> <span id=\"unv_22718510\"></span> | <a href=\"hide?id=22718510&amp;goto=news\">hide</a> | <a href=\"item?id=22718510\">33&nbsp;comments</a>              </td></tr>\n",
      "      <tr class=\"spacer\" style=\"height:5px\"></tr>\n",
      "                <tr class='athing' id='22730292'>\n",
      "      <td align=\"right\" valign=\"top\" class=\"title\"><span class=\"rank\">18.</span></td>      <td valign=\"top\" class=\"votelinks\"><center><a id='up_22730292' href='vote?id=22730292&amp;how=up&amp;goto=news'><div class='votearrow' title='upvote'></div></a></center></td><td class=\"title\"><a href=\"https://blog.samaltman.com/please-fund-more-science\" class=\"storylink\">Please Fund More Science</a><span class=\"sitebit comhead\"> (<a href=\"from?site=samaltman.com\"><span class=\"sitestr\">samaltman.com</span></a>)</span></td></tr><tr><td colspan=\"2\"></td><td class=\"subtext\">\n",
      "        <span class=\"score\" id=\"score_22730292\">285 points</span> by <a href=\"user?id=davnicwil\" class=\"hnuser\">davnicwil</a> <span class=\"age\"><a href=\"item?id=22730292\">6 hours ago</a></span> <span id=\"unv_22730292\"></span> | <a href=\"hide?id=22730292&amp;goto=news\">hide</a> | <a href=\"item?id=22730292\">116&nbsp;comments</a>              </td></tr>\n",
      "      <tr class=\"spacer\" style=\"height:5px\"></tr>\n",
      "                <tr class='athing' id='22732739'>\n",
      "      <td align=\"right\" valign=\"top\" class=\"title\"><span class=\"rank\">19.</span></td>      <td></td><td class=\"title\"><a href=\"https://substack.breezy.hr/p/395577ab518c-full-stack-engineer\" class=\"storylink\" rel=\"nofollow\">Substack (YC W18) Is Hiring Senior Full-Stack Engineers in SF</a><span class=\"sitebit comhead\"> (<a href=\"from?site=breezy.hr\"><span class=\"sitestr\">breezy.hr</span></a>)</span></td></tr><tr><td colspan=\"2\"></td><td class=\"subtext\">\n",
      "        <span class=\"age\"><a href=\"item?id=22732739\">1 hour ago</a></span> | <a href=\"hide?id=22732739&amp;goto=news\">hide</a>      </td></tr>\n",
      "      <tr class=\"spacer\" style=\"height:5px\"></tr>\n",
      "                <tr class='athing' id='22723813'>\n",
      "      <td align=\"right\" valign=\"top\" class=\"title\"><span class=\"rank\">20.</span></td>      <td valign=\"top\" class=\"votelinks\"><center><a id='up_22723813' href='vote?id=22723813&amp;how=up&amp;goto=news'><div class='votearrow' title='upvote'></div></a></center></td><td class=\"title\"><a href=\"https://www.kingarthurflour.com/blog/2018/03/26/introduction-to-tangzhong\" class=\"storylink\">Introduction to tangzhong (2018)</a><span class=\"sitebit comhead\"> (<a href=\"from?site=kingarthurflour.com\"><span class=\"sitestr\">kingarthurflour.com</span></a>)</span></td></tr><tr><td colspan=\"2\"></td><td class=\"subtext\">\n",
      "        <span class=\"score\" id=\"score_22723813\">51 points</span> by <a href=\"user?id=luu\" class=\"hnuser\">luu</a> <span class=\"age\"><a href=\"item?id=22723813\">4 hours ago</a></span> <span id=\"unv_22723813\"></span> | <a href=\"hide?id=22723813&amp;goto=news\">hide</a> | <a href=\"item?id=22723813\">12&nbsp;comments</a>              </td></tr>\n",
      "      <tr class=\"spacer\" style=\"height:5px\"></tr>\n",
      "                <tr class='athing' id='22725623'>\n",
      "      <td align=\"right\" valign=\"top\" class=\"title\"><span class=\"rank\">21.</span></td>      <td valign=\"top\" class=\"votelinks\"><center><a id='up_22725623' href='vote?id=22725623&amp;how=up&amp;goto=news'><div class='votearrow' title='upvote'></div></a></center></td><td class=\"title\"><a href=\"https://dtn7.github.io/assets/hoechst2020lora.pdf\" class=\"storylink\">Lora-Based Device-to-Device Smartphone Communication for Crisis Scenarios [pdf]</a><span class=\"sitebit comhead\"> (<a href=\"from?site=dtn7.github.io\"><span class=\"sitestr\">dtn7.github.io</span></a>)</span></td></tr><tr><td colspan=\"2\"></td><td class=\"subtext\">\n",
      "        <span class=\"score\" id=\"score_22725623\">9 points</span> by <a href=\"user?id=oliver2213\" class=\"hnuser\">oliver2213</a> <span class=\"age\"><a href=\"item?id=22725623\">2 hours ago</a></span> <span id=\"unv_22725623\"></span> | <a href=\"hide?id=22725623&amp;goto=news\">hide</a> | <a href=\"item?id=22725623\">2&nbsp;comments</a>              </td></tr>\n",
      "      <tr class=\"spacer\" style=\"height:5px\"></tr>\n",
      "                <tr class='athing' id='22728257'>\n",
      "      <td align=\"right\" valign=\"top\" class=\"title\"><span class=\"rank\">22.</span></td>      <td valign=\"top\" class=\"votelinks\"><center><a id='up_22728257' href='vote?id=22728257&amp;how=up&amp;goto=news'><div class='votearrow' title='upvote'></div></a></center></td><td class=\"title\"><a href=\"https://github.com/asyncapi/asyncapi\" class=\"storylink\">AsyncAPI – OpenAPI-like specification for event-driven architectures</a><span class=\"sitebit comhead\"> (<a href=\"from?site=github.com\"><span class=\"sitestr\">github.com</span></a>)</span></td></tr><tr><td colspan=\"2\"></td><td class=\"subtext\">\n",
      "        <span class=\"score\" id=\"score_22728257\">132 points</span> by <a href=\"user?id=derberg\" class=\"hnuser\">derberg</a> <span class=\"age\"><a href=\"item?id=22728257\">9 hours ago</a></span> <span id=\"unv_22728257\"></span> | <a href=\"hide?id=22728257&amp;goto=news\">hide</a> | <a href=\"item?id=22728257\">34&nbsp;comments</a>              </td></tr>\n",
      "      <tr class=\"spacer\" style=\"height:5px\"></tr>\n",
      "                <tr class='athing' id='22725274'>\n",
      "      <td align=\"right\" valign=\"top\" class=\"title\"><span class=\"rank\">23.</span></td>      <td valign=\"top\" class=\"votelinks\"><center><a id='up_22725274' href='vote?id=22725274&amp;how=up&amp;goto=news'><div class='votearrow' title='upvote'></div></a></center></td><td class=\"title\"><a href=\"https://narratively.com/the-acrobatic-immigrant-who-invented-pilates-in-a-prisoner-of-war-camp/\" class=\"storylink\">Joseph Pilates worked on his exercise system in a WWI prisoner-of-war camp</a><span class=\"sitebit comhead\"> (<a href=\"from?site=narratively.com\"><span class=\"sitestr\">narratively.com</span></a>)</span></td></tr><tr><td colspan=\"2\"></td><td class=\"subtext\">\n",
      "        <span class=\"score\" id=\"score_22725274\">118 points</span> by <a href=\"user?id=apollinaire\" class=\"hnuser\">apollinaire</a> <span class=\"age\"><a href=\"item?id=22725274\">9 hours ago</a></span> <span id=\"unv_22725274\"></span> | <a href=\"hide?id=22725274&amp;goto=news\">hide</a> | <a href=\"item?id=22725274\">3&nbsp;comments</a>              </td></tr>\n",
      "      <tr class=\"spacer\" style=\"height:5px\"></tr>\n",
      "                <tr class='athing' id='22732804'>\n",
      "      <td align=\"right\" valign=\"top\" class=\"title\"><span class=\"rank\">24.</span></td>      <td valign=\"top\" class=\"votelinks\"><center><a id='up_22732804' href='vote?id=22732804&amp;how=up&amp;goto=news'><div class='votearrow' title='upvote'></div></a></center></td><td class=\"title\"><a href=\"https://bram.dingelstad.xyz/blog/finding-the-right-paas-for-k8s/\" class=\"storylink\" rel=\"nofollow\">Finding the Right PaaS for Kubernetes</a><span class=\"sitebit comhead\"> (<a href=\"from?site=dingelstad.xyz\"><span class=\"sitestr\">dingelstad.xyz</span></a>)</span></td></tr><tr><td colspan=\"2\"></td><td class=\"subtext\">\n",
      "        <span class=\"score\" id=\"score_22732804\">13 points</span> by <a href=\"user?id=oap_bram\" class=\"hnuser\">oap_bram</a> <span class=\"age\"><a href=\"item?id=22732804\">1 hour ago</a></span> <span id=\"unv_22732804\"></span> | <a href=\"hide?id=22732804&amp;goto=news\">hide</a> | <a href=\"item?id=22732804\">3&nbsp;comments</a>              </td></tr>\n",
      "      <tr class=\"spacer\" style=\"height:5px\"></tr>\n",
      "                <tr class='athing' id='22726512'>\n",
      "      <td align=\"right\" valign=\"top\" class=\"title\"><span class=\"rank\">25.</span></td>      <td valign=\"top\" class=\"votelinks\"><center><a id='up_22726512' href='vote?id=22726512&amp;how=up&amp;goto=news'><div class='votearrow' title='upvote'></div></a></center></td><td class=\"title\"><a href=\"http://blog.vmchale.com/article/ats-safe-pointers\" class=\"storylink\">Type-Safe Pointers in ATS</a><span class=\"sitebit comhead\"> (<a href=\"from?site=vmchale.com\"><span class=\"sitestr\">vmchale.com</span></a>)</span></td></tr><tr><td colspan=\"2\"></td><td class=\"subtext\">\n",
      "        <span class=\"score\" id=\"score_22726512\">62 points</span> by <a href=\"user?id=lelf\" class=\"hnuser\">lelf</a> <span class=\"age\"><a href=\"item?id=22726512\">7 hours ago</a></span> <span id=\"unv_22726512\"></span> | <a href=\"hide?id=22726512&amp;goto=news\">hide</a> | <a href=\"item?id=22726512\">6&nbsp;comments</a>              </td></tr>\n",
      "      <tr class=\"spacer\" style=\"height:5px\"></tr>\n",
      "                <tr class='athing' id='22728639'>\n",
      "      <td align=\"right\" valign=\"top\" class=\"title\"><span class=\"rank\">26.</span></td>      <td valign=\"top\" class=\"votelinks\"><center><a id='up_22728639' href='vote?id=22728639&amp;how=up&amp;goto=news'><div class='votearrow' title='upvote'></div></a></center></td><td class=\"title\"><a href=\"https://www.bloomberg.com/news/articles/2020-03-30/-absolutely-crazy-air-cargo-fees-highlight-supply-chain-squeeze\" class=\"storylink\">Demand for medical equipment is making air cargo fees ‘crazy’</a><span class=\"sitebit comhead\"> (<a href=\"from?site=bloomberg.com\"><span class=\"sitestr\">bloomberg.com</span></a>)</span></td></tr><tr><td colspan=\"2\"></td><td class=\"subtext\">\n",
      "        <span class=\"score\" id=\"score_22728639\">138 points</span> by <a href=\"user?id=hhs\" class=\"hnuser\">hhs</a> <span class=\"age\"><a href=\"item?id=22728639\">8 hours ago</a></span> <span id=\"unv_22728639\"></span> | <a href=\"hide?id=22728639&amp;goto=news\">hide</a> | <a href=\"item?id=22728639\">123&nbsp;comments</a>              </td></tr>\n",
      "      <tr class=\"spacer\" style=\"height:5px\"></tr>\n",
      "                <tr class='athing' id='22731505'>\n",
      "      <td align=\"right\" valign=\"top\" class=\"title\"><span class=\"rank\">27.</span></td>      <td valign=\"top\" class=\"votelinks\"><center><a id='up_22731505' href='vote?id=22731505&amp;how=up&amp;goto=news'><div class='votearrow' title='upvote'></div></a></center></td><td class=\"title\"><a href=\"https://github.com/kgabis/ape\" class=\"storylink\">Show HN: Ape – an easy-to-embed programming language in two C files</a><span class=\"sitebit comhead\"> (<a href=\"from?site=github.com\"><span class=\"sitestr\">github.com</span></a>)</span></td></tr><tr><td colspan=\"2\"></td><td class=\"subtext\">\n",
      "        <span class=\"score\" id=\"score_22731505\">22 points</span> by <a href=\"user?id=kgabis\" class=\"hnuser\">kgabis</a> <span class=\"age\"><a href=\"item?id=22731505\">4 hours ago</a></span> <span id=\"unv_22731505\"></span> | <a href=\"hide?id=22731505&amp;goto=news\">hide</a> | <a href=\"item?id=22731505\">4&nbsp;comments</a>              </td></tr>\n",
      "      <tr class=\"spacer\" style=\"height:5px\"></tr>\n",
      "                <tr class='athing' id='22725651'>\n",
      "      <td align=\"right\" valign=\"top\" class=\"title\"><span class=\"rank\">28.</span></td>      <td valign=\"top\" class=\"votelinks\"><center><a id='up_22725651' href='vote?id=22725651&amp;how=up&amp;goto=news'><div class='votearrow' title='upvote'></div></a></center></td><td class=\"title\"><a href=\"https://gifcap.dev/\" class=\"storylink\">Show HN: Gifcap, a browser based client-side GIF screen recording tool</a><span class=\"sitebit comhead\"> (<a href=\"from?site=gifcap.dev\"><span class=\"sitestr\">gifcap.dev</span></a>)</span></td></tr><tr><td colspan=\"2\"></td><td class=\"subtext\">\n",
      "        <span class=\"score\" id=\"score_22725651\">157 points</span> by <a href=\"user?id=joaomoreno\" class=\"hnuser\">joaomoreno</a> <span class=\"age\"><a href=\"item?id=22725651\">10 hours ago</a></span> <span id=\"unv_22725651\"></span> | <a href=\"hide?id=22725651&amp;goto=news\">hide</a> | <a href=\"item?id=22725651\">42&nbsp;comments</a>              </td></tr>\n",
      "      <tr class=\"spacer\" style=\"height:5px\"></tr>\n",
      "                <tr class='athing' id='22728971'>\n",
      "      <td align=\"right\" valign=\"top\" class=\"title\"><span class=\"rank\">29.</span></td>      <td valign=\"top\" class=\"votelinks\"><center><a id='up_22728971' href='vote?id=22728971&amp;how=up&amp;goto=news'><div class='votearrow' title='upvote'></div></a></center></td><td class=\"title\"><a href=\"https://www.bloomberg.com/news/features/2020-03-27/bosses-panic-buy-spy-software-to-keep-tabs-on-remote-workers\" class=\"storylink\">Bosses panic-buy spy software to keep tabs on remote workers</a><span class=\"sitebit comhead\"> (<a href=\"from?site=bloomberg.com\"><span class=\"sitestr\">bloomberg.com</span></a>)</span></td></tr><tr><td colspan=\"2\"></td><td class=\"subtext\">\n",
      "        <span class=\"score\" id=\"score_22728971\">418 points</span> by <a href=\"user?id=chatmasta\" class=\"hnuser\">chatmasta</a> <span class=\"age\"><a href=\"item?id=22728971\">7 hours ago</a></span> <span id=\"unv_22728971\"></span> | <a href=\"hide?id=22728971&amp;goto=news\">hide</a> | <a href=\"item?id=22728971\">314&nbsp;comments</a>              </td></tr>\n",
      "      <tr class=\"spacer\" style=\"height:5px\"></tr>\n",
      "                <tr class='athing' id='22727333'>\n",
      "      <td align=\"right\" valign=\"top\" class=\"title\"><span class=\"rank\">30.</span></td>      <td valign=\"top\" class=\"votelinks\"><center><a id='up_22727333' href='vote?id=22727333&amp;how=up&amp;goto=news'><div class='votearrow' title='upvote'></div></a></center></td><td class=\"title\"><a href=\"item?id=22727333\" class=\"storylink\">Show HN: Offline text extractor from screenshots in macOS</a></td></tr><tr><td colspan=\"2\"></td><td class=\"subtext\">\n",
      "        <span class=\"score\" id=\"score_22727333\">92 points</span> by <a href=\"user?id=ghostffcode\" class=\"hnuser\">ghostffcode</a> <span class=\"age\"><a href=\"item?id=22727333\">11 hours ago</a></span> <span id=\"unv_22727333\"></span> | <a href=\"hide?id=22727333&amp;goto=news\">hide</a> | <a href=\"item?id=22727333\">35&nbsp;comments</a>              </td></tr>\n",
      "      <tr class=\"spacer\" style=\"height:5px\"></tr>\n",
      "            <tr class=\"morespace\" style=\"height:10px\"></tr><tr><td colspan=\"2\"></td><td class=\"title\"><a href=\"news?p=2\" class=\"morelink\" rel=\"next\">More</a></td></tr>\n",
      "  </table>\n",
      "</td></tr>\n",
      "<tr><td><img src=\"s.gif\" height=\"10\" width=\"0\"><table width=\"100%\" cellspacing=\"0\" cellpadding=\"1\"><tr><td bgcolor=\"#ff6600\"></td></tr></table><br><center><span class=\"yclinks\"><a href=\"newsguidelines.html\">Guidelines</a>\n",
      "        | <a href=\"newsfaq.html\">FAQ</a>\n",
      "        | <a href=\"mailto:hn@ycombinator.com\">Support</a>\n",
      "        | <a href=\"https://github.com/HackerNews/API\">API</a>\n",
      "        | <a href=\"security.html\">Security</a>\n",
      "        | <a href=\"lists\">Lists</a>\n",
      "        | <a href=\"bookmarklet.html\" rel=\"nofollow\">Bookmarklet</a>\n",
      "        | <a href=\"http://www.ycombinator.com/legal/\">Legal</a>\n",
      "        | <a href=\"http://www.ycombinator.com/apply/\">Apply to YC</a>\n",
      "        | <a href=\"mailto:hn@ycombinator.com\">Contact</a></span><br><br><form method=\"get\" action=\"//hn.algolia.com/\">Search:\n",
      "          <input type=\"text\" name=\"q\" value=\"\" size=\"17\" autocorrect=\"off\" spellcheck=\"false\" autocapitalize=\"off\" autocomplete=\"false\"></form>\n",
      "            </center></td></tr>\n",
      "      </table></center></body><script type='text/javascript' src='hn.js?ryW9A4l3hsJvd6D7sOQl'></script></html>\n",
      "\n"
     ]
    }
   ],
   "source": [
    "import requests\n",
    "# Fetch a web page\n",
    "r = requests.get(\"https://news.ycombinator.com\")\n",
    "print(r.text)"
   ]
  },
  {
   "cell_type": "code",
   "execution_count": 6,
   "metadata": {},
   "outputs": [
    {
     "name": "stdout",
     "output_type": "stream",
     "text": [
      "\n",
      "        \n",
      "          \n",
      "        Hacker News\n",
      "        \n",
      "                  Hacker News\n",
      "              new | past | comments | ask | show | jobs | submit            \n",
      "                              login\n",
      "                          \n",
      "              \n",
      "\n",
      "              \n",
      "      1.      WeWork sells Meetup (techcrunch.com)\n",
      "        384 points by uptown 5 hours ago  | hide | 215&nbsp;comments              \n",
      "      \n",
      "                \n",
      "      2.      St. Louis Fed estimates 32% unemployment, 52M out of work (stlouisfed.org)\n",
      "        107 points by fdye 1 hour ago  | hide | 108&nbsp;comments              \n",
      "      \n",
      "                \n",
      "      3.      WireGuard 1.0 for Linux 5.6 (zx2c4.com)\n",
      "        458 points by zx2c4 16 hours ago  | hide | 153&nbsp;comments              \n",
      "      \n",
      "                \n",
      "      4.      Open UI (open-ui.org)\n",
      "        107 points by twapi 3 hours ago  | hide | 37&nbsp;comments              \n",
      "      \n",
      "                \n",
      "      5.      Posiopaths: Positive only attitude can be toxic (blaisemcrowly.com)\n",
      "        59 points by TheAuditor 2 hours ago  | hide | 19&nbsp;comments              \n",
      "      \n",
      "                \n",
      "      6.      Updates to form controls and focus (chromium.org)\n",
      "        77 points by twapi 3 hours ago  | hide | 22&nbsp;comments              \n",
      "      \n",
      "                \n",
      "      7.      Time to Ban Stock Repurchases (tbwns.com)\n",
      "        12 points by Zweihander 27 minutes ago  | hide | 1&nbsp;comment              \n",
      "      \n",
      "                \n",
      "      8.      Internet Archive responds: Why we released the National Emergency Library (archive.org)\n",
      "        81 points by sp332 4 hours ago  | hide | 24&nbsp;comments              \n",
      "      \n",
      "                \n",
      "      9.      Ryzen 4000 Review (pcworld.com)\n",
      "        125 points by caseyf7 4 hours ago  | hide | 67&nbsp;comments              \n",
      "      \n",
      "                \n",
      "      10.      Dutch museum says van Gogh painting stolen in overnight raid (artnet.com)\n",
      "        211 points by danso 7 hours ago  | hide | 152&nbsp;comments              \n",
      "      \n",
      "                \n",
      "      11.      Gitlab features are moving to open source (gitlab.com)\n",
      "        39 points by markdog12 2 hours ago  | hide | 9&nbsp;comments              \n",
      "      \n",
      "                \n",
      "      12.      Writing an OS in Rust: Async/Await (phil-opp.com)\n",
      "        329 points by phil-opp 9 hours ago  | hide | 59&nbsp;comments              \n",
      "      \n",
      "                \n",
      "      13.      How Apple Is Working From Home (theinformation.com)\n",
      "        115 points by aaronbrethorst 5 hours ago  | hide | 85&nbsp;comments              \n",
      "      \n",
      "                \n",
      "      14.      You Probably Should Be Wearing a Face Mask If You Can (kottke.org)\n",
      "        4 points by miles 18 minutes ago  | hide | discuss              \n",
      "      \n",
      "                \n",
      "      15.      E-VENT: Emergency ventilator design toolbox (mit.edu)\n",
      "        154 points by zdw 7 hours ago  | hide | 78&nbsp;comments              \n",
      "      \n",
      "                \n",
      "      16.      Open access to ACM Digital Library during coronavirus pandemic (acm.org)\n",
      "        204 points by scott_s 9 hours ago  | hide | 49&nbsp;comments              \n",
      "      \n",
      "                \n",
      "      17.      Antique 4x5 camera creates 20 micron photolithography masks [video] (youtube.com)\n",
      "        94 points by EvanAnderson 6 hours ago  | hide | 33&nbsp;comments              \n",
      "      \n",
      "                \n",
      "      18.      Please Fund More Science (samaltman.com)\n",
      "        285 points by davnicwil 6 hours ago  | hide | 116&nbsp;comments              \n",
      "      \n",
      "                \n",
      "      19.      Substack (YC W18) Is Hiring Senior Full-Stack Engineers in SF (breezy.hr)\n",
      "        1 hour ago | hide      \n",
      "      \n",
      "                \n",
      "      20.      Introduction to tangzhong (2018) (kingarthurflour.com)\n",
      "        51 points by luu 4 hours ago  | hide | 12&nbsp;comments              \n",
      "      \n",
      "                \n",
      "      21.      Lora-Based Device-to-Device Smartphone Communication for Crisis Scenarios [pdf] (dtn7.github.io)\n",
      "        9 points by oliver2213 2 hours ago  | hide | 2&nbsp;comments              \n",
      "      \n",
      "                \n",
      "      22.      AsyncAPI – OpenAPI-like specification for event-driven architectures (github.com)\n",
      "        132 points by derberg 9 hours ago  | hide | 34&nbsp;comments              \n",
      "      \n",
      "                \n",
      "      23.      Joseph Pilates worked on his exercise system in a WWI prisoner-of-war camp (narratively.com)\n",
      "        118 points by apollinaire 9 hours ago  | hide | 3&nbsp;comments              \n",
      "      \n",
      "                \n",
      "      24.      Finding the Right PaaS for Kubernetes (dingelstad.xyz)\n",
      "        13 points by oap_bram 1 hour ago  | hide | 3&nbsp;comments              \n",
      "      \n",
      "                \n",
      "      25.      Type-Safe Pointers in ATS (vmchale.com)\n",
      "        62 points by lelf 7 hours ago  | hide | 6&nbsp;comments              \n",
      "      \n",
      "                \n",
      "      26.      Demand for medical equipment is making air cargo fees ‘crazy’ (bloomberg.com)\n",
      "        138 points by hhs 8 hours ago  | hide | 123&nbsp;comments              \n",
      "      \n",
      "                \n",
      "      27.      Show HN: Ape – an easy-to-embed programming language in two C files (github.com)\n",
      "        22 points by kgabis 4 hours ago  | hide | 4&nbsp;comments              \n",
      "      \n",
      "                \n",
      "      28.      Show HN: Gifcap, a browser based client-side GIF screen recording tool (gifcap.dev)\n",
      "        157 points by joaomoreno 10 hours ago  | hide | 42&nbsp;comments              \n",
      "      \n",
      "                \n",
      "      29.      Bosses panic-buy spy software to keep tabs on remote workers (bloomberg.com)\n",
      "        418 points by chatmasta 7 hours ago  | hide | 314&nbsp;comments              \n",
      "      \n",
      "                \n",
      "      30.      Show HN: Offline text extractor from screenshots in macOS\n",
      "        92 points by ghostffcode 11 hours ago  | hide | 35&nbsp;comments              \n",
      "      \n",
      "            More\n",
      "  \n",
      "\n",
      "Guidelines\n",
      "        | FAQ\n",
      "        | Support\n",
      "        | API\n",
      "        | Security\n",
      "        | Lists\n",
      "        | Bookmarklet\n",
      "        | Legal\n",
      "        | Apply to YC\n",
      "        | ContactSearch:\n",
      "          \n",
      "            \n",
      "      \n",
      "\n"
     ]
    }
   ],
   "source": [
    "import re\n",
    "\n",
    "# Remove HTML tags using RegEx\n",
    "pattern = re.compile(r'<.*?>')  # tags look like <...>\n",
    "print(pattern.sub('', r.text))  # replace them with blank"
   ]
  },
  {
   "cell_type": "code",
   "execution_count": 7,
   "metadata": {},
   "outputs": [
    {
     "name": "stdout",
     "output_type": "stream",
     "text": [
      "\n",
      "        \n",
      "          \n",
      "        Hacker News\n",
      "        \n",
      "                  Hacker News\n",
      "              new | past | comments | ask | show | jobs | submit            \n",
      "                              login\n",
      "                          \n",
      "              \n",
      "\n",
      "              \n",
      "      1.      WeWork sells Meetup (techcrunch.com)\n",
      "        384 points by uptown 5 hours ago  | hide | 215 comments              \n",
      "      \n",
      "                \n",
      "      2.      St. Louis Fed estimates 32% unemployment, 52M out of work (stlouisfed.org)\n",
      "        107 points by fdye 1 hour ago  | hide | 108 comments              \n",
      "      \n",
      "                \n",
      "      3.      WireGuard 1.0 for Linux 5.6 (zx2c4.com)\n",
      "        458 points by zx2c4 16 hours ago  | hide | 153 comments              \n",
      "      \n",
      "                \n",
      "      4.      Open UI (open-ui.org)\n",
      "        107 points by twapi 3 hours ago  | hide | 37 comments              \n",
      "      \n",
      "                \n",
      "      5.      Posiopaths: Positive only attitude can be toxic (blaisemcrowly.com)\n",
      "        59 points by TheAuditor 2 hours ago  | hide | 19 comments              \n",
      "      \n",
      "                \n",
      "      6.      Updates to form controls and focus (chromium.org)\n",
      "        77 points by twapi 3 hours ago  | hide | 22 comments              \n",
      "      \n",
      "                \n",
      "      7.      Time to Ban Stock Repurchases (tbwns.com)\n",
      "        12 points by Zweihander 27 minutes ago  | hide | 1 comment              \n",
      "      \n",
      "                \n",
      "      8.      Internet Archive responds: Why we released the National Emergency Library (archive.org)\n",
      "        81 points by sp332 4 hours ago  | hide | 24 comments              \n",
      "      \n",
      "                \n",
      "      9.      Ryzen 4000 Review (pcworld.com)\n",
      "        125 points by caseyf7 4 hours ago  | hide | 67 comments              \n",
      "      \n",
      "                \n",
      "      10.      Dutch museum says van Gogh painting stolen in overnight raid (artnet.com)\n",
      "        211 points by danso 7 hours ago  | hide | 152 comments              \n",
      "      \n",
      "                \n",
      "      11.      Gitlab features are moving to open source (gitlab.com)\n",
      "        39 points by markdog12 2 hours ago  | hide | 9 comments              \n",
      "      \n",
      "                \n",
      "      12.      Writing an OS in Rust: Async/Await (phil-opp.com)\n",
      "        329 points by phil-opp 9 hours ago  | hide | 59 comments              \n",
      "      \n",
      "                \n",
      "      13.      How Apple Is Working From Home (theinformation.com)\n",
      "        115 points by aaronbrethorst 5 hours ago  | hide | 85 comments              \n",
      "      \n",
      "                \n",
      "      14.      You Probably Should Be Wearing a Face Mask If You Can (kottke.org)\n",
      "        4 points by miles 18 minutes ago  | hide | discuss              \n",
      "      \n",
      "                \n",
      "      15.      E-VENT: Emergency ventilator design toolbox (mit.edu)\n",
      "        154 points by zdw 7 hours ago  | hide | 78 comments              \n",
      "      \n",
      "                \n",
      "      16.      Open access to ACM Digital Library during coronavirus pandemic (acm.org)\n",
      "        204 points by scott_s 9 hours ago  | hide | 49 comments              \n",
      "      \n",
      "                \n",
      "      17.      Antique 4x5 camera creates 20 micron photolithography masks [video] (youtube.com)\n",
      "        94 points by EvanAnderson 6 hours ago  | hide | 33 comments              \n",
      "      \n",
      "                \n",
      "      18.      Please Fund More Science (samaltman.com)\n",
      "        285 points by davnicwil 6 hours ago  | hide | 116 comments              \n",
      "      \n",
      "                \n",
      "      19.      Substack (YC W18) Is Hiring Senior Full-Stack Engineers in SF (breezy.hr)\n",
      "        1 hour ago | hide      \n",
      "      \n",
      "                \n",
      "      20.      Introduction to tangzhong (2018) (kingarthurflour.com)\n",
      "        51 points by luu 4 hours ago  | hide | 12 comments              \n",
      "      \n",
      "                \n",
      "      21.      Lora-Based Device-to-Device Smartphone Communication for Crisis Scenarios [pdf] (dtn7.github.io)\n",
      "        9 points by oliver2213 2 hours ago  | hide | 2 comments              \n",
      "      \n",
      "                \n",
      "      22.      AsyncAPI – OpenAPI-like specification for event-driven architectures (github.com)\n",
      "        132 points by derberg 9 hours ago  | hide | 34 comments              \n",
      "      \n",
      "                \n",
      "      23.      Joseph Pilates worked on his exercise system in a WWI prisoner-of-war camp (narratively.com)\n",
      "        118 points by apollinaire 9 hours ago  | hide | 3 comments              \n",
      "      \n",
      "                \n",
      "      24.      Finding the Right PaaS for Kubernetes (dingelstad.xyz)\n",
      "        13 points by oap_bram 1 hour ago  | hide | 3 comments              \n",
      "      \n",
      "                \n",
      "      25.      Type-Safe Pointers in ATS (vmchale.com)\n",
      "        62 points by lelf 7 hours ago  | hide | 6 comments              \n",
      "      \n",
      "                \n",
      "      26.      Demand for medical equipment is making air cargo fees ‘crazy’ (bloomberg.com)\n",
      "        138 points by hhs 8 hours ago  | hide | 123 comments              \n",
      "      \n",
      "                \n",
      "      27.      Show HN: Ape – an easy-to-embed programming language in two C files (github.com)\n",
      "        22 points by kgabis 4 hours ago  | hide | 4 comments              \n",
      "      \n",
      "                \n",
      "      28.      Show HN: Gifcap, a browser based client-side GIF screen recording tool (gifcap.dev)\n",
      "        157 points by joaomoreno 10 hours ago  | hide | 42 comments              \n",
      "      \n",
      "                \n",
      "      29.      Bosses panic-buy spy software to keep tabs on remote workers (bloomberg.com)\n",
      "        418 points by chatmasta 7 hours ago  | hide | 314 comments              \n",
      "      \n",
      "                \n",
      "      30.      Show HN: Offline text extractor from screenshots in macOS\n",
      "        92 points by ghostffcode 11 hours ago  | hide | 35 comments              \n",
      "      \n",
      "            More\n",
      "  \n",
      "\n",
      "Guidelines\n",
      "        | FAQ\n",
      "        | Support\n",
      "        | API\n",
      "        | Security\n",
      "        | Lists\n",
      "        | Bookmarklet\n",
      "        | Legal\n",
      "        | Apply to YC\n",
      "        | ContactSearch:\n",
      "          \n",
      "            \n",
      "      \n",
      "\n"
     ]
    }
   ],
   "source": [
    "from bs4 import BeautifulSoup\n",
    "# Remove HTML tags using Beautiful Soup library\n",
    "soup = BeautifulSoup(r.text, \"html5lib\")\n",
    "print(soup.get_text())"
   ]
  },
  {
   "cell_type": "code",
   "execution_count": 8,
   "metadata": {
    "scrolled": true
   },
   "outputs": [
    {
     "data": {
      "text/plain": [
       "<tr class=\"athing\" id=\"22730668\">\n",
       "      <td align=\"right\" class=\"title\" valign=\"top\"><span class=\"rank\">1.</span></td>      <td class=\"votelinks\" valign=\"top\"><center><a href=\"vote?id=22730668&amp;how=up&amp;goto=news\" id=\"up_22730668\"><div class=\"votearrow\" title=\"upvote\"></div></a></center></td><td class=\"title\"><a class=\"storylink\" href=\"https://techcrunch.com/2020/03/30/wework-sells-off-social-network-meetup-to-alleycorp-and-other-investors/\">WeWork sells Meetup</a><span class=\"sitebit comhead\"> (<a href=\"from?site=techcrunch.com\"><span class=\"sitestr\">techcrunch.com</span></a>)</span></td></tr>"
      ]
     },
     "execution_count": 8,
     "metadata": {},
     "output_type": "execute_result"
    }
   ],
   "source": [
    "# Find all articles\n",
    "summaries = soup.find_all(\"tr\", class_=\"athing\")\n",
    "summaries[0]"
   ]
  },
  {
   "cell_type": "code",
   "execution_count": 9,
   "metadata": {},
   "outputs": [
    {
     "data": {
      "text/plain": [
       "'WeWork sells Meetup'"
      ]
     },
     "execution_count": 9,
     "metadata": {},
     "output_type": "execute_result"
    }
   ],
   "source": [
    "# Extract title\n",
    "summaries[0].find(\"a\", class_=\"storylink\").get_text().strip()"
   ]
  },
  {
   "cell_type": "code",
   "execution_count": 10,
   "metadata": {},
   "outputs": [
    {
     "name": "stdout",
     "output_type": "stream",
     "text": [
      "30 Article summaries found. Sample:\n",
      "WeWork sells Meetup\n"
     ]
    }
   ],
   "source": [
    "# Find all articles, extract titles\n",
    "articles = []\n",
    "summaries = soup.find_all(\"tr\", class_=\"athing\")\n",
    "for summary in summaries:\n",
    "    title = summary.find(\"a\", class_=\"storylink\").get_text().strip()\n",
    "    articles.append((title))\n",
    "\n",
    "print(len(articles), \"Article summaries found. Sample:\")\n",
    "print(articles[0])"
   ]
  },
  {
   "cell_type": "markdown",
   "metadata": {
    "collapsed": true
   },
   "source": [
    "## Normalization"
   ]
  },
  {
   "cell_type": "markdown",
   "metadata": {},
   "source": [
    "### Case Normalization"
   ]
  },
  {
   "cell_type": "code",
   "execution_count": null,
   "metadata": {},
   "outputs": [],
   "source": [
    "# Sample text\n",
    "text = \"The first time you see The Second Renaissance it may look boring. Look at it at least twice and definitely watch part 2. It will change your view of the matrix. Are the human people the ones who started the war ? Is AI a bad thing ?\"\n",
    "print(text)"
   ]
  },
  {
   "cell_type": "code",
   "execution_count": null,
   "metadata": {},
   "outputs": [],
   "source": [
    "# Convert to lowercase\n",
    "text = text.lower() \n",
    "print(text)"
   ]
  },
  {
   "cell_type": "markdown",
   "metadata": {},
   "source": [
    "### Punctuation Removal"
   ]
  },
  {
   "cell_type": "code",
   "execution_count": null,
   "metadata": {},
   "outputs": [],
   "source": [
    "import re\n",
    "\n",
    "# Remove punctuation characters\n",
    "text = re.sub(r\"[^a-zA-Z0-9]\", \" \", text) \n",
    "print(text)"
   ]
  },
  {
   "cell_type": "markdown",
   "metadata": {},
   "source": [
    "## Tokenization"
   ]
  },
  {
   "cell_type": "code",
   "execution_count": null,
   "metadata": {},
   "outputs": [],
   "source": [
    "# Split text into tokens (words)\n",
    "words = text.split()\n",
    "print(words)"
   ]
  },
  {
   "cell_type": "markdown",
   "metadata": {},
   "source": [
    "### NLTK: Natural Language ToolKit"
   ]
  },
  {
   "cell_type": "code",
   "execution_count": null,
   "metadata": {},
   "outputs": [],
   "source": [
    "import os\n",
    "import nltk\n",
    "nltk.data.path.append(os.path.join(os.getcwd(), \"nltk_data\"))"
   ]
  },
  {
   "cell_type": "code",
   "execution_count": null,
   "metadata": {},
   "outputs": [],
   "source": [
    "# Another sample text\n",
    "text = \"Dr. Smith graduated from the University of Washington. He later started an analytics firm called Lux, which catered to enterprise customers.\"\n",
    "print(text)"
   ]
  },
  {
   "cell_type": "code",
   "execution_count": null,
   "metadata": {},
   "outputs": [],
   "source": [
    "from nltk.tokenize import word_tokenize\n",
    "\n",
    "# Split text into words using NLTK\n",
    "words = word_tokenize(text)\n",
    "print(words)"
   ]
  },
  {
   "cell_type": "code",
   "execution_count": null,
   "metadata": {},
   "outputs": [],
   "source": [
    "from nltk.tokenize import sent_tokenize\n",
    "\n",
    "# Split text into sentences\n",
    "sentences = sent_tokenize(text)\n",
    "print(sentences)"
   ]
  },
  {
   "cell_type": "code",
   "execution_count": null,
   "metadata": {},
   "outputs": [],
   "source": [
    "# List stop words\n",
    "from nltk.corpus import stopwords\n",
    "print(stopwords.words(\"english\"))"
   ]
  },
  {
   "cell_type": "code",
   "execution_count": null,
   "metadata": {},
   "outputs": [],
   "source": [
    "# Reset text\n",
    "text = \"The first time you see The Second Renaissance it may look boring. Look at it at least twice and definitely watch part 2. It will change your view of the matrix. Are the human people the ones who started the war ? Is AI a bad thing ?\"\n",
    "\n",
    "# Normalize it\n",
    "text = re.sub(r\"[^a-zA-Z0-9]\", \" \", text.lower())\n",
    "\n",
    "# Tokenize it\n",
    "words = text.split()\n",
    "print(words)"
   ]
  },
  {
   "cell_type": "code",
   "execution_count": null,
   "metadata": {},
   "outputs": [],
   "source": [
    "# Remove stop words\n",
    "words = [w for w in words if w not in stopwords.words(\"english\")]\n",
    "print(words)"
   ]
  },
  {
   "cell_type": "markdown",
   "metadata": {},
   "source": [
    "### Sentence Parsing"
   ]
  },
  {
   "cell_type": "code",
   "execution_count": null,
   "metadata": {},
   "outputs": [],
   "source": [
    "import nltk\n",
    "\n",
    "# Define a custom grammar\n",
    "my_grammar = nltk.CFG.fromstring(\"\"\"\n",
    "S -> NP VP\n",
    "PP -> P NP\n",
    "NP -> Det N | Det N PP | 'I'\n",
    "VP -> V NP | VP PP\n",
    "Det -> 'an' | 'my'\n",
    "N -> 'elephant' | 'pajamas'\n",
    "V -> 'shot'\n",
    "P -> 'in'\n",
    "\"\"\")\n",
    "parser = nltk.ChartParser(my_grammar)\n",
    "\n",
    "# Parse a sentence\n",
    "sentence = word_tokenize(\"I shot an elephant in my pajamas\")\n",
    "for tree in parser.parse(sentence):\n",
    "    print(tree)"
   ]
  },
  {
   "cell_type": "markdown",
   "metadata": {},
   "source": [
    "## Stemming & Lemmatization\n",
    "\n",
    "### Stemming"
   ]
  },
  {
   "cell_type": "code",
   "execution_count": null,
   "metadata": {},
   "outputs": [],
   "source": [
    "from nltk.stem.porter import PorterStemmer\n",
    "\n",
    "# Reduce words to their stems\n",
    "stemmed = [PorterStemmer().stem(w) for w in words]\n",
    "print(stemmed)"
   ]
  },
  {
   "cell_type": "markdown",
   "metadata": {},
   "source": [
    "### Lemmatization"
   ]
  },
  {
   "cell_type": "code",
   "execution_count": null,
   "metadata": {},
   "outputs": [],
   "source": [
    "from nltk.stem.wordnet import WordNetLemmatizer\n",
    "\n",
    "# Reduce words to their root form\n",
    "lemmed = [WordNetLemmatizer().lemmatize(w) for w in words]\n",
    "print(lemmed)"
   ]
  },
  {
   "cell_type": "code",
   "execution_count": null,
   "metadata": {},
   "outputs": [],
   "source": [
    "# Lemmatize verbs by specifying pos\n",
    "lemmed = [WordNetLemmatizer().lemmatize(w, pos='v') for w in lemmed]\n",
    "print(lemmed)"
   ]
  },
  {
   "cell_type": "code",
   "execution_count": null,
   "metadata": {},
   "outputs": [],
   "source": []
  }
 ],
 "metadata": {
  "kernelspec": {
   "display_name": "Python 3",
   "language": "python",
   "name": "python3"
  },
  "language_info": {
   "codemirror_mode": {
    "name": "ipython",
    "version": 3
   },
   "file_extension": ".py",
   "mimetype": "text/x-python",
   "name": "python",
   "nbconvert_exporter": "python",
   "pygments_lexer": "ipython3",
   "version": "3.6.3"
  }
 },
 "nbformat": 4,
 "nbformat_minor": 2
}
